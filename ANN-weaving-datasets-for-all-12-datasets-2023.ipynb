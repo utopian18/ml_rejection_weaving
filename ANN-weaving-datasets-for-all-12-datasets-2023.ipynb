{
 "cells": [
  {
   "cell_type": "code",
   "execution_count": 79,
   "id": "fc77c034",
   "metadata": {},
   "outputs": [],
   "source": [
    "import pandas as pd\n",
    "from sklearn.model_selection import train_test_split\n",
    "from sklearn.metrics import r2_score"
   ]
  },
  {
   "cell_type": "code",
   "execution_count": 80,
   "id": "e846d16d",
   "metadata": {},
   "outputs": [],
   "source": [
    "df1 = pd.read_csv('dataset-1-OHE-gr-Sc-csv.csv')\n",
    "df1_max = pd.read_csv('dataset-1-OHE-gr_sc+MaxScaled-csv.csv')\n",
    "df2= pd.read_csv('dataset_2-grouping-ohe-csv.csv')\n",
    "df3 = pd.read_csv('dataset-3-Only_OHE-csv.csv')\n",
    "df4 = pd.read_csv('dataset_4-NO-action-csv.csv')\n",
    "df5 = pd.read_csv('dataset-5-OHE-Standard_sc-csv.csv')\n",
    "df5_max = pd.read_csv('dataset-5-OHE-MinMax_sc-csv.csv')\n",
    "df6 = pd.read_csv('dataset-6-grouping-factorizing-standard-scaling-csv.csv')\n",
    "df6_max = pd.read_csv('dataset-6-grouping-factorizing-max-scaling-csv.csv')\n",
    "df7 = pd.read_csv('dataset-7-only-scaling-std-csv.csv')\n",
    "df7_max = pd.read_csv('dataset-7-only-scaling-max-scaler-csv.csv')\n",
    "# df8 = pd.read_csv('dataset-8-only-grouping-csv.csv')\n",
    "df8_fact = pd.read_csv('dataset-8-only-grouping-factorized-csv.csv')"
   ]
  },
  {
   "cell_type": "code",
   "execution_count": 81,
   "id": "23667b60",
   "metadata": {},
   "outputs": [],
   "source": [
    "df8_fact = df8_fact.drop('Unnamed: 0', axis=1)"
   ]
  },
  {
   "cell_type": "code",
   "execution_count": 82,
   "id": "16aaa013",
   "metadata": {},
   "outputs": [],
   "source": [
    "X=['X1', 'X2', 'X3', 'X4', 'X5', 'X6', 'X7', 'X8','X9', 'X10', 'X11', 'X12' ]\n",
    "y=['y1', 'y2', 'y3', 'y4', 'y5', 'y6', 'y7','y8','y9', 'y10', 'y11', 'y12'  ]\n",
    "for i, df in enumerate([df1,df1_max, df2, df3, df4, df5, df5_max, df6, df6_max, df7, df7_max, df8_fact]):\n",
    "    X[i] = df.copy()\n",
    "    y[i] = X[i].pop('Rejection')"
   ]
  },
  {
   "cell_type": "code",
   "execution_count": 85,
   "id": "adc774ac",
   "metadata": {},
   "outputs": [],
   "source": [
    "X1= X[0]\n",
    "X2= X[1]\n",
    "X3= X[2]\n",
    "X4= X[3]\n",
    "X5= X[4]\n",
    "X6= X[5]\n",
    "X7= X[6]\n",
    "X8= X[7]\n",
    "X9= X[8]\n",
    "X10 = X[9]\n",
    "X11 = X[10]\n",
    "X12 = X[11]\n",
    "\n"
   ]
  },
  {
   "cell_type": "code",
   "execution_count": 86,
   "id": "491c7ade",
   "metadata": {},
   "outputs": [],
   "source": [
    "y1 = y[0]\n",
    "y2 = y[1]\n",
    "y3 = y[2]\n",
    "y4 = y[3]\n",
    "y5 = y[4]\n",
    "y6 = y[5]\n",
    "y7 = y[6]\n",
    "y8 = y[7]\n",
    "y9 = y[8]\n",
    "y10 = y[9]\n",
    "y11= y[10]\n",
    "y12 = y[11]\n"
   ]
  },
  {
   "cell_type": "code",
   "execution_count": 87,
   "id": "ca22dc89",
   "metadata": {},
   "outputs": [],
   "source": [
    "for i, j in enumerate([X1, X2,X3, X4,X5, X6,X7, X8,X9, X10,X11, X12]):\n",
    "    j.name = f\"X_{i+1}\"\n"
   ]
  },
  {
   "cell_type": "code",
   "execution_count": 88,
   "id": "200e5860",
   "metadata": {},
   "outputs": [],
   "source": [
    "# X13"
   ]
  },
  {
   "cell_type": "code",
   "execution_count": 89,
   "id": "7787c032",
   "metadata": {},
   "outputs": [],
   "source": [
    "import tensorflow as tf\n",
    "from tensorflow.keras.models import Sequential\n",
    "from tensorflow.keras.layers import Dense"
   ]
  },
  {
   "cell_type": "code",
   "execution_count": 90,
   "id": "2080cc4a",
   "metadata": {},
   "outputs": [],
   "source": [
    "def ann_predict(X, y):\n",
    "    X_train, X_test, y_train, y_test = train_test_split(X,y, test_size=0.3, random_state=0)\n",
    "    nn_model = Sequential()\n",
    "    nn_model.add(Dense(128, kernel_initializer = 'glorot_uniform', input_dim = X_train.shape[1], activation = 'relu'))\n",
    "    nn_model.add(Dense(256,kernel_initializer = 'glorot_uniform',  activation = 'relu'))\n",
    "    nn_model.add(Dense(128,kernel_initializer = 'glorot_uniform',  activation = 'relu'))\n",
    "    nn_model.add(Dense(128, kernel_initializer = 'glorot_uniform', activation = 'relu'))\n",
    "    nn_model.add(Dense(1, kernel_initializer = 'glorot_uniform',   activation= 'linear'))\n",
    "    nn_model.compile(loss='mean_absolute_error', optimizer = 'adam', metrics = ['mean_absolute_error'])\n",
    "    nn_model.fit(X_train, y_train, epochs=200, batch_size=30,validation_split=0.2, verbose=0 )\n",
    "    y_pred_ann = nn_model.predict(X_test)\n",
    "    r2_scores = r2_score(y_test, y_pred_ann)\n",
    "    return r2_scores"
   ]
  },
  {
   "cell_type": "code",
   "execution_count": 91,
   "id": "57d4e7d8",
   "metadata": {},
   "outputs": [
    {
     "name": "stdout",
     "output_type": "stream",
     "text": [
      "207/207 [==============================] - 0s 1ms/step\n",
      "207/207 [==============================] - 0s 763us/step\n",
      "207/207 [==============================] - 0s 746us/step\n",
      "207/207 [==============================] - 0s 799us/step\n",
      "207/207 [==============================] - 0s 828us/step\n",
      "207/207 [==============================] - 0s 884us/step\n",
      "207/207 [==============================] - 0s 792us/step\n",
      "207/207 [==============================] - 0s 881us/step\n",
      "207/207 [==============================] - 0s 722us/step\n",
      "207/207 [==============================] - 0s 944us/step\n",
      "207/207 [==============================] - 0s 857us/step\n",
      "207/207 [==============================] - 0s 758us/step\n"
     ]
    }
   ],
   "source": [
    "r2_scores_all={}\n",
    "for X, y in zip((X1,X2, X3, X4,X5,X6, X7,X8, X9, X10,X11,X12), (y1, y2, y3, y4, y5, y6,y7, y8, y9, y10, y11, y12)):\n",
    "    r2 = ann_predict(X,y)\n",
    "    r2_scores_all[X.name] = r2\n",
    "    "
   ]
  },
  {
   "cell_type": "code",
   "execution_count": 57,
   "id": "8db137ce",
   "metadata": {},
   "outputs": [],
   "source": [
    "# pd.DataFrame.from_dict(r2_scores_all)"
   ]
  },
  {
   "cell_type": "code",
   "execution_count": 92,
   "id": "11535ed0",
   "metadata": {},
   "outputs": [
    {
     "data": {
      "text/plain": [
       "{'X_1': 0.8755650256673716,\n",
       " 'X_2': 0.8593996956492598,\n",
       " 'X_3': 0.6913268564112299,\n",
       " 'X_4': 0.6828445261770822,\n",
       " 'X_5': 0.706447689494851,\n",
       " 'X_6': 0.8174328254715768,\n",
       " 'X_7': 0.8110118778710396,\n",
       " 'X_8': 0.882146774141298,\n",
       " 'X_9': 0.8646828250207008,\n",
       " 'X_10': 0.8168471535835168,\n",
       " 'X_11': 0.8131095105337379,\n",
       " 'X_12': 0.7349342242701089}"
      ]
     },
     "execution_count": 92,
     "metadata": {},
     "output_type": "execute_result"
    }
   ],
   "source": [
    "r2_scores_all"
   ]
  },
  {
   "cell_type": "code",
   "execution_count": 60,
   "id": "266d452f",
   "metadata": {},
   "outputs": [
    {
     "data": {
      "text/plain": [
       "{'X_1': 0.8841924960525159,\n",
       " 'X_2': 0.8636493961774911,\n",
       " 'X_3': 0.7005286641130184,\n",
       " 'X_4': 0.6770027711377747,\n",
       " 'X_5': 0.7167495406527002,\n",
       " 'X_6': 0.8304758911135521,\n",
       " 'X_7': 0.8221243238276768,\n",
       " 'X_8': 0.8760784611057557,\n",
       " 'X_9': 0.8698782678425843,\n",
       " 'X_10': 0.8287671369907627,\n",
       " 'X_11': 0.8140108385207689}"
      ]
     },
     "execution_count": 60,
     "metadata": {},
     "output_type": "execute_result"
    }
   ],
   "source": [
    "r2_scores_all"
   ]
  },
  {
   "cell_type": "code",
   "execution_count": 73,
   "id": "d4fc8ac8",
   "metadata": {},
   "outputs": [],
   "source": [
    "x= pd.DataFrame()"
   ]
  },
  {
   "cell_type": "code",
   "execution_count": 74,
   "id": "7313c7b3",
   "metadata": {},
   "outputs": [],
   "source": [
    "x['name'] = r2_scores_all.keys()\n",
    "x['r2_scores'] = r2_scores_all.values()"
   ]
  },
  {
   "cell_type": "code",
   "execution_count": 75,
   "id": "bfffb4f2",
   "metadata": {},
   "outputs": [
    {
     "data": {
      "text/html": [
       "<div>\n",
       "<style scoped>\n",
       "    .dataframe tbody tr th:only-of-type {\n",
       "        vertical-align: middle;\n",
       "    }\n",
       "\n",
       "    .dataframe tbody tr th {\n",
       "        vertical-align: top;\n",
       "    }\n",
       "\n",
       "    .dataframe thead th {\n",
       "        text-align: right;\n",
       "    }\n",
       "</style>\n",
       "<table border=\"1\" class=\"dataframe\">\n",
       "  <thead>\n",
       "    <tr style=\"text-align: right;\">\n",
       "      <th></th>\n",
       "      <th>name</th>\n",
       "      <th>r2_scores</th>\n",
       "    </tr>\n",
       "  </thead>\n",
       "  <tbody>\n",
       "    <tr>\n",
       "      <th>0</th>\n",
       "      <td>X_1</td>\n",
       "      <td>0.884192</td>\n",
       "    </tr>\n",
       "    <tr>\n",
       "      <th>1</th>\n",
       "      <td>X_2</td>\n",
       "      <td>0.863649</td>\n",
       "    </tr>\n",
       "    <tr>\n",
       "      <th>2</th>\n",
       "      <td>X_3</td>\n",
       "      <td>0.700529</td>\n",
       "    </tr>\n",
       "    <tr>\n",
       "      <th>3</th>\n",
       "      <td>X_4</td>\n",
       "      <td>0.677003</td>\n",
       "    </tr>\n",
       "    <tr>\n",
       "      <th>4</th>\n",
       "      <td>X_5</td>\n",
       "      <td>0.716750</td>\n",
       "    </tr>\n",
       "    <tr>\n",
       "      <th>5</th>\n",
       "      <td>X_6</td>\n",
       "      <td>0.830476</td>\n",
       "    </tr>\n",
       "    <tr>\n",
       "      <th>6</th>\n",
       "      <td>X_7</td>\n",
       "      <td>0.822124</td>\n",
       "    </tr>\n",
       "    <tr>\n",
       "      <th>7</th>\n",
       "      <td>X_8</td>\n",
       "      <td>0.876078</td>\n",
       "    </tr>\n",
       "    <tr>\n",
       "      <th>8</th>\n",
       "      <td>X_9</td>\n",
       "      <td>0.869878</td>\n",
       "    </tr>\n",
       "    <tr>\n",
       "      <th>9</th>\n",
       "      <td>X_10</td>\n",
       "      <td>0.828767</td>\n",
       "    </tr>\n",
       "    <tr>\n",
       "      <th>10</th>\n",
       "      <td>X_11</td>\n",
       "      <td>0.814011</td>\n",
       "    </tr>\n",
       "  </tbody>\n",
       "</table>\n",
       "</div>"
      ],
      "text/plain": [
       "    name  r2_scores\n",
       "0    X_1   0.884192\n",
       "1    X_2   0.863649\n",
       "2    X_3   0.700529\n",
       "3    X_4   0.677003\n",
       "4    X_5   0.716750\n",
       "5    X_6   0.830476\n",
       "6    X_7   0.822124\n",
       "7    X_8   0.876078\n",
       "8    X_9   0.869878\n",
       "9   X_10   0.828767\n",
       "10  X_11   0.814011"
      ]
     },
     "execution_count": 75,
     "metadata": {},
     "output_type": "execute_result"
    }
   ],
   "source": [
    "x['preprocessing'] = ['OHE-gr-Sc-csv']"
   ]
  },
  {
   "cell_type": "code",
   "execution_count": 19,
   "id": "07a2d03f",
   "metadata": {},
   "outputs": [
    {
     "data": {
      "text/plain": [
       "[0.8786931945273783,\n",
       " 0.8661455310410674,\n",
       " 0.6997827558311246,\n",
       " 0.6758769730893562,\n",
       " 0.7334095445093514,\n",
       " 0.8242489409973501]"
      ]
     },
     "execution_count": 19,
     "metadata": {},
     "output_type": "execute_result"
    }
   ],
   "source": [
    "r2_scores_all"
   ]
  },
  {
   "cell_type": "code",
   "execution_count": null,
   "id": "3c615563",
   "metadata": {},
   "outputs": [],
   "source": []
  },
  {
   "cell_type": "code",
   "execution_count": null,
   "id": "6e30b898",
   "metadata": {},
   "outputs": [],
   "source": []
  },
  {
   "cell_type": "code",
   "execution_count": null,
   "id": "7a139888",
   "metadata": {},
   "outputs": [],
   "source": []
  },
  {
   "cell_type": "code",
   "execution_count": null,
   "id": "9cb58c63",
   "metadata": {},
   "outputs": [],
   "source": []
  }
 ],
 "metadata": {
  "kernelspec": {
   "display_name": "Python 3 (ipykernel)",
   "language": "python",
   "name": "python3"
  },
  "language_info": {
   "codemirror_mode": {
    "name": "ipython",
    "version": 3
   },
   "file_extension": ".py",
   "mimetype": "text/x-python",
   "name": "python",
   "nbconvert_exporter": "python",
   "pygments_lexer": "ipython3",
   "version": "3.11.1"
  }
 },
 "nbformat": 4,
 "nbformat_minor": 5
}
